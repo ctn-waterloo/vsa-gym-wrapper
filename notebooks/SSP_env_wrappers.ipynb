{
 "cells": [
  {
   "cell_type": "markdown",
   "id": "50311ed8-ac32-4927-974d-9b22c6d00c42",
   "metadata": {},
   "source": [
    "# General-purpose environment and observation wrappers for SSP embeddings\n",
    "\n",
    "This package defines a set of wrappers for transforming observations and/or actions into SSP/VSA embeddings. Under the hood these use the SSP spaces but for basic gym observation and action spaces the creation of those objects can be done automatically. \n",
    "\n",
    "The most general purpose wrapper is SSPEnvWrapper. This can be initialized in one of the following ways:\n",
    "- Provide a suitable ssp_obs_space and ssp_action_space (can be SSPBox, SSPDiscrete, SSPSequence, or even SSPDict for more complex, custom VSA embeddings)\n",
    "- Set auto_convert_obs_space=True and auto_convert_action_space=True and do not give ssp_obs_space and ssp_action_space. In this case (as long as env.observation and env.action_space are Box or Discrete), ssp_obs_space and ssp_action_space will be generated automatically\n",
    "- Set auto_convert_obs_space=True or give a ssp_obs_space and set auto_convert_action_space=False. SSPs will be used for observations but not actions\n",
    "- Set auto_convert_action_space=True or give a ssp_action_space and set auto_convert_obs_space=False. SSPs will be used for actions but not observations\n",
    "\n",
    "Note that this wrapper does **not** support learning of the SSP parameters. See the feature extractor networks if you would like to learn mapping parameters.\n"
   ]
  },
  {
   "cell_type": "code",
   "execution_count": 3,
   "id": "61dc4823-328e-42ca-9db5-78051c03ea72",
   "metadata": {},
   "source": [
    "import numpy as np\n",
    "import gymnasium as gym\n",
    "import sys, os\n",
    "sys.path.insert(1, os.path.dirname(os.getcwd()))\n",
    "os.chdir(\"..\")\n",
    "import vsagym\n",
    "\n",
    "\n",
    "# A base env\n",
    "env = gym.make('CartPole-v1', render_mode='rgb_array')\n",
    "\n",
    "# The general SSP wrapper\n",
    "env = vsagym.wrappers.SSPEnvWrapper(env,\n",
    "                                 auto_convert_obs_space=True,\n",
    "                                 auto_convert_action_space=True,\n",
    "                                 shape_out=251, decoder_method='from-set',\n",
    "                                 length_scale=0.1)\n",
    "observation, _ = env.reset()\n",
    "assert observation.shape == (251,)\n",
    "for t in range(5):\n",
    "    action = env.action_space.sample()\n",
    "    assert action.shape == (251,)\n",
    "    _, _, terminated, truncated, _ = env.step(action)\n",
    "    if terminated or truncated or t==4:\n",
    "        observation, _ = env.reset()\n",
    "env.close()"
   ],
   "outputs": []
  },
  {
   "cell_type": "markdown",
   "id": "f833e3ec-9dc0-473c-bab9-5377a36cb5e0",
   "metadata": {},
   "source": [
    "There is also SSPObsWrapper (subclass of gym.ObservationWrapper) for SSP encodings of observations. Note that this will be the same as SSPEnvWrapper with auto_convert_action_space=False and no ssp_action_space provided."
   ]
  },
  {
   "cell_type": "code",
   "execution_count": 5,
   "id": "fd64bffc-fcfa-438d-be51-323a05b8b008",
   "metadata": {},
   "source": [
    "env = gym.make('CartPole-v1', render_mode='rgb_array')\n",
    "env = vsagym.wrappers.SSPObsWrapper(env,\n",
    "                             shape_out=251, length_scale=0.1,\n",
    "                             decoder_method='from-set')\n",
    "observation, _ = env.reset()\n",
    "assert observation.shape == (251,)\n",
    "for t in range(5):\n",
    "    action = env.action_space.sample()\n",
    "    _, _, terminated, truncated, _ = env.step(action)\n",
    "    if terminated or truncated or t==4:\n",
    "        observation, _ = env.reset()\n",
    "env.close()"
   ],
   "outputs": []
  },
  {
   "cell_type": "markdown",
   "id": "4adc3731-0590-448f-b1e8-93b3ccb2bbfe",
   "metadata": {},
   "source": [
    "## With RLZoo3\n",
    " You can use custom wrappers with the rlzoo framework. You can create a hyperparameters json file with env_wrapper args. For example,\n",
    "\n",
    "```text\n",
    " CartPole-v1:\n",
    "  batch_size: 256\n",
    "  clip_range: lin_0.2\n",
    "  ent_coef: 0.0\n",
    "  env_wrapper:\n",
    "  - vsagym.wrappers.SSPObsWrapper:\n",
    "      shape_out: 251\n",
    "      length_scale: [9.6000004e-01, 1.0000000e-01, 8.3775806e-02, 1.0000000e-01]\n",
    "  gae_lambda: 0.8\n",
    "  gamma: 0.98\n",
    "  learning_rate: lin_0.001\n",
    "  n_envs: 8\n",
    "  n_epochs: 20\n",
    "  n_steps: 32\n",
    "  n_timesteps: 100000.0\n",
    "  policy: MlpPolicy\n",
    "  policy_kwargs: \"dict(net_arch=dict(pi=[64], vf=[64]),activation_fn=nn.ReLU)\"\n",
    "  ```\n",
    "\n"
   ]
  },
  {
   "cell_type": "code",
   "execution_count": null,
   "id": "f6ca6b0a-8426-4bdc-9bbf-9df4507f0edf",
   "metadata": {},
   "source": [],
   "outputs": []
  }
 ],
 "metadata": {
  "kernelspec": {
   "display_name": "Python 3 (ipykernel)",
   "language": "python",
   "name": "python3"
  },
  "language_info": {
   "codemirror_mode": {
    "name": "ipython",
    "version": 3
   },
   "file_extension": ".py",
   "mimetype": "text/x-python",
   "name": "python",
   "nbconvert_exporter": "python",
   "pygments_lexer": "ipython3",
   "version": "3.10.0"
  }
 },
 "nbformat": 4,
 "nbformat_minor": 5
}

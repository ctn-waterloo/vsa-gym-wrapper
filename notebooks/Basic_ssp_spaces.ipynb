{
 "cells": [
  {
   "cell_type": "markdown",
   "id": "92f6599d-3560-4171-a53f-485befa29c4f",
   "metadata": {},
   "source": [
    "# SSP Spaces\n",
    "\n",
    "This package includes SSPSpace (subtypes: RandomSSPSpace and HexgonalSSP), which defines an encoding to a high-dimensional Fourier space. RandomSSPSpace (with sampler='norm') is just defining Random Fourier Features, while HexgonalSSP define a structured, rather than random mapping. There is also a SPSpace for high-dimensional random encodings for discrete data. These classes all have methods for decoding, sampling, plotting, and binding (a method for composing embeddings). These are used by the SSP spaces.\n"
   ]
  },
  {
   "cell_type": "code",
   "execution_count": 1,
   "id": "099509e6-8046-405c-934c-5ef3c249bfff",
   "metadata": {},
   "source": [
    "import numpy as np\n",
    "import matplotlib.pyplot as plt\n",
    "import sys, os\n",
    "sys.path.insert(1, os.path.dirname(os.getcwd()))\n",
    "os.chdir(\"..\")\n",
    "import vsagym\n",
    "\n",
    "# Create SSP space\n",
    "domain_dim = 2 # The dim of the 'x' space\n",
    "bounds = np.tile([-1,1],(domain_dim,1)) # bounds of x space (needed only for decoding, can set as None if you don't need to decode)\n",
    "ssp_type = 'hex'\n",
    "if ssp_type=='hex':\n",
    "    ssp_space = vsagym.spaces.HexagonalSSPSpace(domain_dim,\n",
    "                     n_scales=6,n_rotates=6, # You can change the dim of the SSP either via the ssp_dim arg or (in the case of hex ssps) n_scales and n_rotates. Try changing these to see what happens\n",
    "                     domain_bounds=bounds, length_scale=0.1, scale_min=1) \n",
    "elif ssp_type=='rand':\n",
    "    ssp_space = vsagym.spaces.RandomSSPSpace(domain_dim,\n",
    "                     ssp_dim=151, domain_bounds=bounds, length_scale=0.1)\n",
    "\n",
    "# For HexSSPs, only certain dims are allowed. If you make the space with an invalid ssp_dim arg, it will just round ssp_dim to the closest 'ok' one, so you might need to check the ssp_dim of the returned ssp_space\n",
    "d = ssp_space.ssp_dim \n",
    "\n",
    "# Some random x\n",
    "x = np.array([0.1,-0.4])\n",
    "phi = ssp_space.encode(x)\n",
    "\n",
    "plt.figure()\n",
    "ax = plt.subplot(111)\n",
    "im = ssp_space.similarity_plot(phi, ax=ax)\n",
    "plt.colorbar(im)\n",
    "plt.title(\"Similarity/kernel plot: $k_{\\\\phi'}(x,y) = \\\\phi'\\cdot \\\\phi(x,y)$ \")\n",
    "plt.xlabel('x')\n",
    "plt.ylabel('y')\n",
    "plt.show()\n",
    "\n",
    "# Let's try decoding\n",
    "xhat = ssp_space.decode(phi, method='direct-optim') \n",
    "print(f\"(x,y)={x}\" )\n",
    "print(f\"SSP \\phi(x,y)={phi}\" )\n",
    "\n",
    "print(f\"Decoding error = {np.sqrt(np.sum((x-xhat)**2))}\")"
   ],
   "outputs": []
  },
  {
   "cell_type": "markdown",
   "id": "6b44611c-43bb-4eac-a9c0-83618d87dfd9",
   "metadata": {},
   "source": [
    "## SSP Gym Spaces\n",
    "\n",
    "\n",
    "There are four gymnasium spaces included in this package. \n",
    "- SSPBox: SSPs encoding continuous data (i.e., from a gym.spaces.Box space). The underlying mapping (a SSPSpace object) will be automatically generated if not provided.\n",
    "- SSPDiscrete: SPs encoding discete data (i.e., from a gym.spaces.Discrete space). The underlying mapping (a SPSpace object) will be automatically generated if not provided. (note that this is called SSPDiscrete rather than SPDiscrete to be consisent with the other spaces, this name may be changed in future versions of this package)\n",
    "- SSPSequences: SSPs encoding seqewunces of continous or discrete data. Must be given a SSPBox or SSPDiscrete space\n",
    "- SSPDict: A general purpose space for defining VSA/SSP style encoding and decoding schemes over multiple data types. "
   ]
  },
  {
   "cell_type": "code",
   "execution_count": 21,
   "id": "1bd822b4-d28b-44ee-aad7-5e520c1f4c02",
   "metadata": {},
   "source": [
    "# SSPBox\n",
    "\n",
    "ssp_dim = 97\n",
    "box_space = vsagym.spaces.SSPBox(-1, 1, 2, shape_out=ssp_dim, decoder_method='direct-optim', length_scale=0.1)\n",
    "x = np.array([0.1, -0.3])\n",
    "ssp = box_space.encode(x)\n",
    "\n",
    "\n",
    "print(box_space.sample())\n",
    "# box_space.samples(2)"
   ],
   "outputs": []
  },
  {
   "cell_type": "code",
   "execution_count": 22,
   "id": "31970cbc-2f81-4444-8fb8-6fee85acbff8",
   "metadata": {},
   "source": [
    "# SSPDiscrete\n",
    "discrete_space = vsagym.spaces.SSPDiscrete(3, shape_out=ssp_dim)\n",
    "decoded_one = discrete_space.decode(discrete_space.encode(1))\n",
    "print(discrete_space.sample())"
   ],
   "outputs": []
  },
  {
   "cell_type": "code",
   "execution_count": 15,
   "id": "81f652be-edc7-467d-bc36-5acff577c701",
   "metadata": {},
   "source": [
    "decoded_one"
   ],
   "outputs": []
  },
  {
   "cell_type": "code",
   "execution_count": 24,
   "id": "e845610b-8cc5-4450-a3ec-f601e52f5783",
   "metadata": {},
   "source": [
    "ssp_dim=151\n",
    "seq_space = vsagym.spaces.SSPSequence(\n",
    "        vsagym.spaces.SSPBox(-1, 1, 2, shape_out=ssp_dim, decoder_method='direct-optim', length_scale=0.1),\n",
    "        length=3)\n",
    "seq = np.array([[0.1, -0.3], [0, -0.1], [-0.2, 0.5]])\n",
    "print(seq_space.decode(seq_space.encode(seq.reshape(-1))))\n",
    "seq_space.sample()"
   ],
   "outputs": []
  },
  {
   "cell_type": "markdown",
   "id": "8068aa81-3bed-4e9f-8b93-4cbd1bcee60f",
   "metadata": {},
   "source": [
    "## SSPDict"
   ]
  },
  {
   "cell_type": "code",
   "execution_count": 2,
   "id": "07ad3e9d-b486-4b84-9717-bebd3a483c8a",
   "metadata": {},
   "source": [
    "ssp_dim = 151\n",
    "\n",
    "dict_space = vsagym.spaces.SSPDict({\n",
    "    \"object\": vsagym.spaces.SSPDiscrete(6, shape_out=ssp_dim),\n",
    "    \"position\": vsagym.spaces.SSPBox(-10, 10, 2, shape_out=ssp_dim, length_scale=0.1,\n",
    "                       decoder_method='direct-optim'),\n",
    "    \"velocity\": vsagym.spaces.SSPBox(-1, 1, 2, shape_out=ssp_dim, length_scale=0.1,\n",
    "                       decoder_method='direct-optim')\n",
    "},\n",
    "    static_spaces={\"slots\": vsagym.spaces.SSPDiscrete(3, shape_out=ssp_dim)},\n",
    "    seed=0)\n",
    "\n",
    "dict_space.sample()"
   ],
   "outputs": []
  },
  {
   "cell_type": "code",
   "execution_count": 4,
   "id": "3cd5bd34-c6bc-4eab-8b2f-77383e551cc0",
   "metadata": {},
   "source": [
    "\n",
    "\n",
    "def encode(x, static_spaces):\n",
    "    ssp = (x['object'] * static_spaces['slots'].encode(0) +\n",
    "           x['position'] * static_spaces['slots'].encode(1) +\n",
    "           x['velocity'] * static_spaces['slots'].encode(2))\n",
    "    return ssp.v\n",
    "\n",
    "def decode(ssp, spaces, static_spaces):\n",
    "    x = {}\n",
    "    bind = static_spaces['slots'].ssp_space.bind\n",
    "    inv_slots = static_spaces['slots'].ssp_space.inverse_vectors\n",
    "    x['object'] = spaces['object'].decode(bind(inv_slots[0], ssp))\n",
    "    x['position'] = spaces['position'].decode(bind(inv_slots[1], ssp))\n",
    "    x['velocity'] = spaces['velocity'].decode(bind(inv_slots[2], ssp))\n",
    "    return x\n",
    "\n",
    "dict_space.set_encode(encode)\n",
    "dict_space.set_decode(decode)\n",
    "\n",
    "vsa_embed = dict_space.encode({'object': 2, 'position': [8.1,4.2],'velocity':[0.3,-0.1]})\n",
    "dict_space.decode(vsa_embed)"
   ],
   "outputs": []
  },
  {
   "cell_type": "code",
   "execution_count": 5,
   "id": "1316e9dc-6f38-407e-a511-f9a24d2e9dc8",
   "metadata": {},
   "source": [
    "def map_to_dict(x):\n",
    "    return {'object': int(x[0]), 'position': x[1:3], 'velocity': x[3:]}\n",
    "\n",
    "def map_from_dict(x_dict):\n",
    "    x = np.zeros(5)\n",
    "    x[0] = x_dict['object']\n",
    "    x[1:3] = x_dict['position']\n",
    "    x[3:] = x_dict['velocity']\n",
    "    return x\n",
    "\n",
    "dict_space.set_map_to_dict(map_to_dict)\n",
    "dict_space.set_map_from_dict(map_from_dict)\n",
    "\n",
    "vsa_embed = dict_space.encode([2, 8.1, 4.2, 0.3, -0.1])\n",
    "dict_space.decode(vsa_embed)"
   ],
   "outputs": []
  },
  {
   "cell_type": "code",
   "execution_count": null,
   "id": "fd8fe1a9-4f82-4a7a-8801-0c6d91e55309",
   "metadata": {},
   "source": [],
   "outputs": []
  }
 ],
 "metadata": {
  "kernelspec": {
   "display_name": "Python 3 (ipykernel)",
   "language": "python",
   "name": "python3"
  },
  "language_info": {
   "codemirror_mode": {
    "name": "ipython",
    "version": 3
   },
   "file_extension": ".py",
   "mimetype": "text/x-python",
   "name": "python",
   "nbconvert_exporter": "python",
   "pygments_lexer": "ipython3",
   "version": "3.10.0"
  }
 },
 "nbformat": 4,
 "nbformat_minor": 5
}

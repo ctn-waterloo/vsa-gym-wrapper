{
 "cells": [
  {
   "cell_type": "markdown",
   "id": "b5a82f7b-1558-4a28-9bdd-cf1e36002c13",
   "metadata": {},
   "source": [
    "# SSP feature extractors\n",
    "This requries pytorch and stable_baselines3. \n",
    "\n",
    "\n",
    "The vsagym package provides **SSPFeaturesExtractor**, a torch module (in particular, it is a subclass of BaseFeaturesExtractor from stable_baselines3). This can be used with stable_baselines3 or frameworks built on stable_baselines3, such as rlzoo, to define a network that outputs SSPs with trainable SSP parameters and length_scale. \n",
    "\n",
    "A Spatial Semantic Pointer (SSP) represents a value $\\mathbf{x}\\in\\mathbb{R}^n$ in the HRR VSA and is given by the output from a feature map $\\phi: \\mathbb{R}^n \\rightarrow \\mathbb{R}^d$ (with $d\\gg n$),\n",
    "$$ \\phi(\\mathbf{x}) = W^{-1} e^{ i A  \\mathbf{x}/ \\ell }  $$\n",
    "where $ W^{-1}$ is the IDFT matrix, $A  \\in \\mathbb{R}^{d \\times n}$ is the **phase matrix** of the representation, and $\\ell \\in \\mathbb{R}^{n}$ is the **length scale** or bandwidth  of the representation, and the exponential is applied element-wise. \n",
    "Both $A$ and $\\ell$ are free parameters. If $A$ is set randommly, then this is very similar to a Random Fourier Feature. \n",
    "\n",
    "\n",
    "The SSP spaces and wrappers provided by vsagym assume a fixed $A$ and $\\ell$. But with SSPFeaturesExtractor these can be trained togther with the rest of the RL model. Here is how it can be used with stable_baselines3.\n",
    "\n",
    "There is also a provided class called SSPHexFeaturesExtractor that learns SSP mapping parameters while maintaining the structure of HexagonalSSPs. This involves fewer trainable parameters but is currently a bit slow.\n"
   ]
  },
  {
   "cell_type": "code",
   "execution_count": 1,
   "id": "1866c99f-dd41-4c4b-bfd6-44ada7bf5a9a",
   "metadata": {},
   "source": [
    "import torch\n",
    "import torch.nn as nn\n",
    "import gymnasium as gym\n",
    "from stable_baselines3 import DQN\n",
    "\n",
    "import sys, os\n",
    "sys.path.insert(1, os.path.dirname(os.getcwd()))\n",
    "os.chdir(\"..\")\n",
    "import vsagym\n",
    "\n",
    "env = gym.make('CartPole-v1')\n",
    "model = DQN(\n",
    "    \"MlpPolicy\",\n",
    "    env,\n",
    "    verbose=1,\n",
    "    policy_kwargs=dict(features_extractor_class=vsagym.networks.SSPFeaturesExtractor,\n",
    "                      features_extractor_kwargs={'features_dim': 251,\n",
    "                                                'length_scale': 1.}), # features_dim is size of SSP\n",
    " )\n",
    "# You can give other input via features_extractor_kwargs such as length_scale (the initial length_scale), basis_type ('hex' (default) or 'rand'),\n",
    "# learn_phase_matrix (true (default) or false), learn_ls (true (default) or false),\n"
   ],
   "outputs": []
  },
  {
   "cell_type": "code",
   "execution_count": 2,
   "id": "4aec0d88-5130-4e14-98b5-68835981adfc",
   "metadata": {
    "scrolled": true
   },
   "source": [
    "model.learn(total_timesteps=100000)"
   ],
   "outputs": []
  },
  {
   "cell_type": "markdown",
   "id": "8d96fa69-5674-4c0c-abd4-99efb3ca4df2",
   "metadata": {},
   "source": [
    "## With RLZoo3\n",
    " You can use custom feature extractors with the rlzoo framework. You can create a hyperparameters json file with features_extractor_class in policy_kwargs include. For example,\n",
    "\n",
    "```text\n",
    "CartPole-v1:\n",
    "  batch_size: 32\n",
    "  n_steps: 512\n",
    "  gamma: 0.98\n",
    "  learning_rate: 8.317289833769668e-05\n",
    "  ent_coef: 0.006074167278936407\n",
    "  clip_range: 0.3\n",
    "  n_epochs: 5\n",
    "  gae_lambda: 0.98\n",
    "  max_grad_norm: 0.6\n",
    "  vf_coef: 0.88657064594218\n",
    "  n_timesteps: 100000.0\n",
    "  policy: MlpPolicy\n",
    "  policy_kwargs: dict(net_arch=dict(pi=[64,64], vf=[64,64]),\n",
    "      activation_fn=nn.Tanh,features_extractor_class = vsagym.wrappers.SSPFeaturesExtractor,\n",
    "          features_extractor_kwargs=dict(features_dim=251,length_scale=[0.96, 0.1, 0.08, 0.1]))\n",
    "  ```\n"
   ]
  },
  {
   "cell_type": "code",
   "execution_count": null,
   "id": "ce0555da-5ee8-41cc-a3bf-ea9aeaa046fe",
   "metadata": {},
   "source": [],
   "outputs": []
  }
 ],
 "metadata": {
  "kernelspec": {
   "display_name": "Python 3 (ipykernel)",
   "language": "python",
   "name": "python3"
  },
  "language_info": {
   "codemirror_mode": {
    "name": "ipython",
    "version": 3
   },
   "file_extension": ".py",
   "mimetype": "text/x-python",
   "name": "python",
   "nbconvert_exporter": "python",
   "pygments_lexer": "ipython3",
   "version": "3.10.0"
  }
 },
 "nbformat": 4,
 "nbformat_minor": 5
}
